{
 "cells": [
  {
   "cell_type": "markdown",
   "metadata": {},
   "source": [
    "# Aufgabenblatt 6\n"
   ]
  },
  {
   "cell_type": "markdown",
   "metadata": {},
   "source": [
    "\n",
    "## Nichtlineare Optimierung - 2\n",
    "\n"
   ]
  },
  {
   "cell_type": "markdown",
   "metadata": {},
   "source": [
    "### Aufgabe 1.\n",
    "\n",
    "Lösen Sie folgendes Problem mit der Polytop-Methode (Nelder & Mead)\n",
    "\n",
    "$$ 5 x_1^2 + 5 x_2^2 − 11 x_1 + 11 x_2 +11 \\to \\text{min} $$ \n",
    "\n",
    "Verwenden Sie dabei die Parameter $\\alpha = 1, \\beta= 2, \\gamma = 1/2$ und die Startvektoren $ x=(5,0), y = (0,5), z = (5,5)$.\n",
    "\n"
   ]
  },
  {
   "cell_type": "code",
   "execution_count": 81,
   "metadata": {},
   "outputs": [
    {
     "name": "stdout",
     "output_type": "stream",
     "text": [
      "Optimum: \n",
      "\tx: [1.0999996756395858, -1.1000007798634388] \n",
      "\ty: [1.100001115037037, -1.0999998437049592] \n",
      "\tz: [1.0999993373156078, -1.099999025347283]\n"
     ]
    }
   ],
   "source": [
    "f = lambda x: 5*x[0]**2+5*x[1]**2-11*x[0]+11*x[1]+11\n",
    "\n",
    "x = [5, 0]\n",
    "y = [0, 5]\n",
    "z = [5, 5]\n",
    "\n",
    "#print(f(x), f(y), f(z))\n",
    "\n",
    "alpha = 1\n",
    "beta = 2\n",
    "gamma = 0.5\n",
    "\n",
    "def rearange(x, y, z):\n",
    "    #https://stackoverflow.com/questions/65560515/sorting-three-numbers-in-ascending-order-without-using-functions\n",
    "    if f(x) > f(y):\n",
    "        x,y = y,x\n",
    "    if f(x) > f(z):\n",
    "        x,z = z,x\n",
    "    if f(y) > f(z):\n",
    "        y,z = z,y\n",
    "    #print(\"are these sorted?\", f(x), x, f(y), y, f(z), z)\n",
    "    return (x, y, z)\n",
    "    \n",
    "for i in range(100):\n",
    "    x, y, z = rearange(x, y, z)\n",
    "    \n",
    "    if 0 < abs(abs(z[0]) - abs(z[1])) < 0.000001:\n",
    "        break\n",
    "    \n",
    "    #print(\"start:\", x, y, z)\n",
    "    \n",
    "    c = [(0.5*(x[0]+y[0])), (0.5*(x[1]+y[1]))]\n",
    "    r = [c[0] + alpha*(c[0]-z[0]), c[1] + alpha*(c[1]-z[1])]\n",
    "        \n",
    "    if f(r) <= f(x):\n",
    "        e = [c[0] + beta*(r[0]-c[0]), c[1] + beta*(r[1]-c[1])]\n",
    "        if f(e) < f(r):\n",
    "            z = e\n",
    "            #print(\"z is e now\", e)\n",
    "        else:\n",
    "            z = r\n",
    "            #print(\"z is r1 now\", r)\n",
    "    elif f(r) <= f(y):\n",
    "        z = r\n",
    "        #print(\"z is r2 now\", r)\n",
    "    else:\n",
    "        z = v = [c[0] + gamma*(r[0]-c[0]), c[1] + gamma*(r[1]-c[1])]\n",
    "        #print(\"z is v now\", v)\n",
    "        \n",
    "    #print(\"end:\", x, y, z)\n",
    "    #print(\"optimum:\", f())\n",
    "    \n",
    "print(\"Optimum:\",\"\\n\\tx:\", x, \"\\n\\ty:\", y, \"\\n\\tz:\", z)\n"
   ]
  },
  {
   "cell_type": "markdown",
   "metadata": {},
   "source": [
    "### Aufgabe 2.\n",
    "\n",
    "a) Stellen Sie fest, ob an den Punkten $(0,0)$ und $(0,1)$ die Karush-Kuhn-Tucker Bedingungen für das folgende nichtlineare Optimierungsproblem erfüllen:\n",
    "\n",
    "$$ (x_1-1)^2 + x_2^2 \\to  \\text{max!} $$\n",
    "$$ x_1 \\leq  1$$\n",
    "$$ x_2 \\geq  1$$\n",
    "$$ x_2  - x_1 \\geq 1$$\n",
    "\n",
    "b) Zeichnen Sie eine ausführliche Skizze für das Problem (zulässiger Bereich, Niveaulinien der Zielfunktion,...)\n",
    "\n",
    "c) Bestimmen Sie bei beiden Punkten die Menge der zulässigen Richtungen und die Menge der verbessernden Richtungen und tragen Sie diese in die Skizzen ein.\n"
   ]
  },
  {
   "cell_type": "markdown",
   "metadata": {},
   "source": [
    "### Aufgabe 3.\n",
    "Gegeben sei das folgende nichtlineare Optimierungsproblem:\n",
    "\n",
    "$$ - (x_1-x_2)^2  \\to  \\text{min!} $$\n",
    "$$ x_1^2 + x_2^2 \\leq  1$$\n",
    "$$ x_1 + x_2 \\leq  -1$$\n",
    "\n",
    "a) Zeichnen Sie eine ausführliche Skizze für das Problem (zulässiger Bereich, Niveaulinien der Zielfunktion, optimale Lösung).\n",
    "\n",
    "b) Erstellen Sie die dazugehörigen Karush-Kuhn-Tucker Bedingungen.\n",
    "\n",
    "c) Lösen Sie das Problem mit Hilfe der in b) erstellten KKT Bedingungen.\n",
    "\n"
   ]
  },
  {
   "cell_type": "markdown",
   "metadata": {},
   "source": [
    "### Aufgabe 4. \n",
    "\n",
    "Gegeben sei eine Produktionsfunktion $ f(x,y) = x^{2/3}y^{1/3}$ und dazu eine Budgetbeschränkung $x + y=4000$.\n",
    "\n",
    "a) Für welche Werte $x$ und $y$ ergibt sich ein Produktionsmaximum? \n",
    "\n",
    "b) Was ist der maximale Produktionswert? \n",
    "\n",
    "c) Bestimmen Sie die Lösungen mithilfe des Verfahrens der Lagrange‘schen Multiplikatoren.\n"
   ]
  }
 ],
 "metadata": {
  "kernelspec": {
   "display_name": "Python 3 (ipykernel)",
   "language": "python",
   "name": "python3"
  },
  "language_info": {
   "codemirror_mode": {
    "name": "ipython",
    "version": 3
   },
   "file_extension": ".py",
   "mimetype": "text/x-python",
   "name": "python",
   "nbconvert_exporter": "python",
   "pygments_lexer": "ipython3",
   "version": "3.9.7"
  }
 },
 "nbformat": 4,
 "nbformat_minor": 2
}
