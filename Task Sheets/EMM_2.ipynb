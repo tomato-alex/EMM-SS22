{
 "cells": [
  {
   "cell_type": "markdown",
   "metadata": {},
   "source": [
    "# Aufgabenblatt 2"
   ]
  },
  {
   "cell_type": "markdown",
   "metadata": {},
   "source": [
    "## Lineare Optimierung - 1"
   ]
  },
  {
   "cell_type": "markdown",
   "metadata": {},
   "source": [
    "### Aufgabe 1\n",
    "\n",
    "Lösen Sie graphisch:\n",
    "\n",
    "$ x + y  \\rightarrow    \\text{max}$\n",
    "\n",
    "$3x + y\\leq 8,\\quad y + z \\leq 5,\\quad x + 2z = 2, \\quad x, y, z \\geq 0$\n",
    "\n",
    "Anleitung:  Man  drücke $z$ durch $x$ aus und formuliere die Bedingung $ z \\geq 0 $ in eine Bedingung an $x$ um. "
   ]
  },
  {
   "cell_type": "markdown",
   "metadata": {},
   "source": [
    "$z = \\frac{2 - x}{2} $"
   ]
  },
  {
   "cell_type": "code",
   "execution_count": 1,
   "metadata": {},
   "outputs": [
    {
     "data": {
      "image/png": "[encoded data removed]",
      "text/plain": [
       "<Figure size 432x432 with 1 Axes>"
      ]
     },
     "metadata": {
      "needs_background": "light"
     },
     "output_type": "display_data"
    }
   ],
   "source": [
    "## Code ist von UE Kurs - Vizualisierung\n",
    "import numpy as np\n",
    "from matplotlib import pyplot as plt\n",
    "\n",
    "def drawArrow(maxX, maxY, c):\n",
    "    plt.arrow(0, 0, c[0], c[1], head_width=0.2, fc='k')\n",
    "\n",
    "def drawLines(maxX, maxY, c):\n",
    "    delta = 1\n",
    "    x = np.arange(0, maxX, delta)\n",
    "    y = np.arange(0, maxY, delta)\n",
    "    X, Y = np.meshgrid(x, y)\n",
    "    Z = c[0] * X + c[1] * Y\n",
    "    CS = plt.contour(X, Y, Z, levels=np.linspace(0, 30, 10), cmap='coolwarm')\n",
    "    plt.clabel(CS, inline=1, fontsize=12, fmt='%1.1f')\n",
    "\n",
    "def fillRectangle(ax, x, y, width, height):\n",
    "    ax.add_patch(plt.Rectangle((x, y), width, height, facecolor=\"green\", alpha=0.3))\n",
    "\n",
    "def drawInequality(inequality, ax, maxX, maxY):\n",
    "    delta = 0.1\n",
    "    x = np.arange(0, maxX, delta)\n",
    "    y = np.arange(0, maxY, delta)\n",
    "    for xi in x:\n",
    "        for yi in y:\n",
    "            if inequality(xi, yi):\n",
    "                fillRectangle(ax, xi, yi, delta, delta)\n",
    "\n",
    "def finishPlot(maxX, maxY):\n",
    "    plt.xlim(0, maxX)\n",
    "    plt.ylim(0, maxY)\n",
    "    plt.xlabel('$x$')\n",
    "    plt.ylabel('$Y$')\n",
    "    plt.grid(True)\n",
    "    plt.show()\n",
    "\n",
    "maxX = 10\n",
    "maxY = 10\n",
    "\n",
    "c = np.array([1, 1])\n",
    "fig = plt.figure(figsize = (6, 6))\n",
    "ax = fig.add_subplot(1, 1, 1)\n",
    "\n",
    "drawArrow(maxX, maxY, c)\n",
    "drawLines(maxX, maxY, c)\n",
    "\n",
    "inequality = lambda x, y : 3*x + y <= 8\n",
    "inequality2 = lambda x, y: y + (2-x)/2 <= 5\n",
    "ineq3 = lambda x, y: (2 - x)/2 + y*0 >= 0\n",
    "drawInequality(inequality, ax, maxX, maxY)\n",
    "drawInequality(inequality2, ax, maxX, maxY)\n",
    "drawInequality(ineq3, ax, maxX, maxY)\n",
    "finishPlot(maxX, maxY)"
   ]
  },
  {
   "cell_type": "markdown",
   "metadata": {},
   "source": [
    "### Aufgabe 2\n",
    "\n",
    "Man bestimme alle Basislösungen von $A \\, x  =  b, \\, x \\geq 0 $ mit \n",
    "\n",
    "$$  A=  \\begin{pmatrix} \n",
    "3 & 4 & - 1  \\\\\n",
    "2 & 3& 0  \\\\\n",
    "\\end{pmatrix}, \\quad b =  \\begin{pmatrix} \n",
    "2  \\\\\n",
    "5  \\\\\n",
    "\\end{pmatrix}. $$\n",
    "\n",
    "Welche der Basislösungen sind zulässig?\n"
   ]
  },
  {
   "cell_type": "markdown",
   "metadata": {},
   "source": [
    "$$ \\begin{pmatrix} \n",
    "3 & 4 & - 1  \\\\\n",
    "2 & 3& 0  \\\\\n",
    "\\end{pmatrix} \n",
    "\\times\n",
    "\\begin{pmatrix}\n",
    "x_1 \\\\\n",
    "x_2 \\\\\n",
    "x_3 \\\\\n",
    "\\end{pmatrix}\n",
    "=  \\begin{pmatrix} \n",
    "2  \\\\\n",
    "5  \\\\\n",
    "\\end{pmatrix} \n",
    "$$\n",
    "$$\n",
    "x \\geq 0 \\implies x_1, x_2, x_3 \\geq 0\n",
    "$$\n",
    "$$\n",
    "Index Menge = \\{ 1, 2, 3 \\} \\\\\n",
    "Teilmengen = \\{1, 2\\}, \\{1, 3\\}, \\{2, 3\\} \\\\\n",
    "\\,\\\\\n",
    "1. \\{1, 2\\}, x_3 \\text{mit 0 ersetzen} \\\\ \n",
    "\\begin{pmatrix} \n",
    "3 & 4 \\\\\n",
    "2 & 3 \\\\\n",
    "\\end{pmatrix} \n",
    "\\times\n",
    "\\begin{pmatrix}\n",
    "x_1 \\\\\n",
    "x_2 \\\\\n",
    "\\end{pmatrix}\n",
    "=  \\begin{pmatrix} \n",
    "2  \\\\\n",
    "5  \\\\\n",
    "\\end{pmatrix}\n",
    "x_1 = -14, x_2 = 11 \\\\\n",
    "x_1 \\leq 0 \\implies \\text{Diese Lösung ist unzulässig.} \\\\ \\,\\\\ \n",
    "2. \\{1, 3\\}, x_2 \\text{mit 0 ersetzen} \\\\\n",
    "\\begin{pmatrix} \n",
    "3 & -1 \\\\\n",
    "2 & 0 \\\\\n",
    "\\end{pmatrix} \n",
    "\\times\n",
    "\\begin{pmatrix}\n",
    "x_1 \\\\\n",
    "x_3 \\\\\n",
    "\\end{pmatrix}\n",
    "=  \\begin{pmatrix} \n",
    "2  \\\\\n",
    "5  \\\\\n",
    "\\end{pmatrix}\n",
    "x_1 = 2.5, x_2 = 5.5 \\\\\n",
    "x_1, x_2, x_3 \\geq 0 \\implies \\text{Diese Lösung ist zulässig.} \\\\ \\,\\\\\n",
    "3. \\{2, 3\\}, x_1 \\text{mit 0 ersetzen} \\\\\n",
    "\\begin{pmatrix} \n",
    "4 & -1 \\\\\n",
    "3 & 0 \\\\\n",
    "\\end{pmatrix} \n",
    "\\times\n",
    "\\begin{pmatrix}\n",
    "x_2 \\\\\n",
    "x_3 \\\\\n",
    "\\end{pmatrix}\n",
    "=  \\begin{pmatrix} \n",
    "2  \\\\\n",
    "5  \\\\\n",
    "\\end{pmatrix}\n",
    "x_2 = \\frac{5}{3}, x_3 = \\frac{14}{3}\\\\\n",
    "x_1, x_2, x_3 \\geq 0 \\implies \\text{Diese Lösung ist zulässig.} \\\\\n",
    "$$"
   ]
  },
  {
   "cell_type": "markdown",
   "metadata": {},
   "source": [
    "### Aufgabe 3.\n",
    " Der zulässige  Bereich wird durch folgende Ungleichungen definiert\n",
    "\t\t$$x_1 + x_2 + 2 \\, x_3   \\leq 8 $$\n",
    "\t\t$$  x_2 + 6 \\, x_3   \\leq  12  $$\n",
    "\t\t$$ x_1    \\leq 4 $$\n",
    "\t\t$$ x_2   \\leq  6 $$\n",
    "\t\t$$x_1 ,  \\,x_2 , \\, x_3   \\geq 0$$\n",
    "\t\t\n",
    "Welche von den  Ecken  $A=(2,6,0)$,  $B=(4,0,2)$  sind  degeneriert?\n",
    "Welche Basen gehören zu diesen Ecken?"
   ]
  },
  {
   "cell_type": "markdown",
   "metadata": {},
   "source": [
    "$$\n",
    "x_1 + x_2 + 2 \\, x_3  + x_4 = 8 \\\\\n",
    "x_2 + 6 \\, x_3 + x_6  =  12  \\\\\n",
    "x_1  + x_6  = 4 \\\\\n",
    "x_2 + x_7  =  6 \\\\\n",
    "x_1 ,  \\,x_2 , \\, x_3 , x_4, x_5, x_6, x_7   \\geq 0\n",
    "\\,\\\\ \\,\\\\\n",
    "\\begin{pmatrix} \n",
    "1 & 1 & 2 & 1 & 0 & 0 & 0 \\\\\n",
    "0 & 1 & 6 & 0 & 1 & 0 & 0 \\\\\n",
    "1 & 0 & 0 & 0 & 0 & 1 & 0 \\\\\n",
    "0 & 1 & 0 & 0 & 0 & 0 & 1 \\\\\n",
    "\\end{pmatrix} \\cdot \n",
    "\\begin{pmatrix} \n",
    "x_1 \\\\\n",
    "x_2 \\\\\n",
    "x_3 \\\\\n",
    "x_4 \\\\\n",
    "x_5 \\\\\n",
    "x_6 \\\\\n",
    "x_7 \\\\\n",
    "\\end{pmatrix} = \n",
    "\\begin{pmatrix} \n",
    "8 \\\\\n",
    "12 \\\\\n",
    "4 \\\\\n",
    "6 \\\\\n",
    "\\end{pmatrix}\n",
    "\\,\\\\ \\,\\\\\n",
    "A = \\begin{pmatrix}\n",
    "2 \\\\\n",
    "6 \\\\\n",
    "0\n",
    "\\end{pmatrix} = \n",
    "\\begin{pmatrix}\n",
    "x_1 \\\\\n",
    "x_2 \\\\\n",
    "x_3\n",
    "\\end{pmatrix}\n",
    "\\, \\, ,\n",
    "\\begin{pmatrix} \n",
    "x_1 \\\\\n",
    "x_2 \\\\\n",
    "x_3 \\\\\n",
    "x_4 \\\\\n",
    "x_5 \\\\\n",
    "x_6 \\\\\n",
    "x_7 \\\\\n",
    "\\end{pmatrix} = \n",
    "\\begin{pmatrix} \n",
    "2 \\\\\n",
    "6 \\\\\n",
    "0 \\\\\n",
    "0 \\\\\n",
    "0 \\\\\n",
    "0 \\\\\n",
    "0 \\\\\n",
    "\\end{pmatrix}\n",
    "\\,\\\\\n",
    "x_1, x_2 \\text{sind Basisvariablen} \\implies x_3, x_4, x_5, x_6, x_7 = 0 \\implies \\text{Ecke degeneriert}\n",
    "\\,\\\\ \\,\\\\ \\,\\\\\n",
    "B = \\begin{pmatrix}\n",
    "4 \\\\\n",
    "0 \\\\\n",
    "2\n",
    "\\end{pmatrix} = \n",
    "\\begin{pmatrix}\n",
    "x_1 \\\\\n",
    "x_2 \\\\\n",
    "x_3\n",
    "\\end{pmatrix}\n",
    "\\, \\, ,\n",
    "\\begin{pmatrix} \n",
    "x_1 \\\\\n",
    "x_2 \\\\\n",
    "x_3 \\\\\n",
    "x_4 \\\\\n",
    "x_5 \\\\\n",
    "x_6 \\\\\n",
    "x_7 \\\\\n",
    "\\end{pmatrix} = \n",
    "\\begin{pmatrix} \n",
    "4 \\\\\n",
    "0 \\\\\n",
    "2 \\\\\n",
    "0 \\\\\n",
    "0 \\\\\n",
    "0 \\\\\n",
    "0 \\\\\n",
    "\\end{pmatrix}\n",
    "\\,\\\\\n",
    "x_1, x_3 \\text{sind Basisvariablen} \\implies x_2, x_4, x_5, x_6, x_7 = 0 \\implies \\text{Ecke degeneriert}\n",
    "$$"
   ]
  },
  {
   "cell_type": "markdown",
   "metadata": {},
   "source": [
    "### Aufgabe 4.\n",
    "Ein Bergbauunternehmen muss wöchentlich 1 kt (Kilotonnne) Kohle der Qualität A, 0.7 kt der Qualität B, 2 kt der Qualität C und  4.5 kt der Qualität D liefern. Die Kosten pro Tag betragen bei Schacht 1 40 Tausend EUR und bei Schacht 2  100 Tausend EUR. Die Förderung je Tag (in kt) ist folgender Tabelle zu entnehmen:"
   ]
  },
  {
   "cell_type": "code",
   "execution_count": 22,
   "metadata": {},
   "outputs": [
    {
     "data": {
      "text/html": [
       "<div>\n",
       "<style scoped>\n",
       "    .dataframe tbody tr th:only-of-type {\n",
       "        vertical-align: middle;\n",
       "    }\n",
       "\n",
       "    .dataframe tbody tr th {\n",
       "        vertical-align: top;\n",
       "    }\n",
       "\n",
       "    .dataframe thead th {\n",
       "        text-align: right;\n",
       "    }\n",
       "</style>\n",
       "<table border=\"1\" class=\"dataframe\">\n",
       "  <thead>\n",
       "    <tr style=\"text-align: right;\">\n",
       "      <th></th>\n",
       "      <th>A</th>\n",
       "      <th>B</th>\n",
       "      <th>C</th>\n",
       "      <th>D</th>\n",
       "    </tr>\n",
       "  </thead>\n",
       "  <tbody>\n",
       "    <tr>\n",
       "      <th>Schacht 1</th>\n",
       "      <td>0.2</td>\n",
       "      <td>0.1</td>\n",
       "      <td>0.2</td>\n",
       "      <td>0.4</td>\n",
       "    </tr>\n",
       "    <tr>\n",
       "      <th>Schacht 2</th>\n",
       "      <td>0.1</td>\n",
       "      <td>0.1</td>\n",
       "      <td>0.5</td>\n",
       "      <td>1.5</td>\n",
       "    </tr>\n",
       "  </tbody>\n",
       "</table>\n",
       "</div>"
      ],
      "text/plain": [
       "             A    B    C    D\n",
       "Schacht 1  0.2  0.1  0.2  0.4\n",
       "Schacht 2  0.1  0.1  0.5  1.5"
      ]
     },
     "execution_count": 22,
     "metadata": {},
     "output_type": "execute_result"
    }
   ],
   "source": [
    "import pandas as pd\n",
    "import numpy as np\n",
    "Schacht_1 =\"Schacht 1\"\n",
    "Schacht_2 =\"Schacht 2\"\n",
    "row_labels=[Schacht_1,Schacht_2]\n",
    "df = pd.DataFrame(data = np.array([[0.2,0.1,0.2,0.4],[0.1,0.1,0.5,1.5]]), columns = ['A','B','C','D'], index=row_labels)\n",
    "df"
   ]
  },
  {
   "cell_type": "markdown",
   "metadata": {},
   "source": [
    "a) Formulieren Sie das zugehörige lineare Optimierungsproblem."
   ]
  },
  {
   "cell_type": "markdown",
   "metadata": {},
   "source": [
    "b) Lösen Sie es auf graphischem Weg."
   ]
  },
  {
   "cell_type": "markdown",
   "metadata": {},
   "source": [
    "c) Bringen Sie es in erweiterte Standardform."
   ]
  },
  {
   "cell_type": "markdown",
   "metadata": {},
   "source": [
    "d) Lösen Sie es mit linprog."
   ]
  },
  {
   "cell_type": "markdown",
   "metadata": {},
   "source": [
    "e) Lösen Sie es mit dem Simplex-Algorithmus"
   ]
  },
  {
   "cell_type": "markdown",
   "metadata": {},
   "source": [
    "f) Ermitteln Sie die Schattenpreise und interpretieren Sie diese Werte."
   ]
  },
  {
   "cell_type": "markdown",
   "metadata": {},
   "source": [
    "### Aufgabe 5. \n",
    "\n",
    "Betrachten Sie das Rucksackproblem: Es sind drei Gegenstände A, B, C\n",
    "mit den Gewichten (10, 10, 5) und den entsprechenden Nutzwerten (100, 50, 150) gegeben. Der Dieb kann nur einen kleinen Teil der Beute in seinem Rucksack, der maximal 20 aushält, abtransportieren und versucht, das Maximum an Nutzwert herauszuschlagen. Welche Gegenstände soll er mitnehmen?"
   ]
  },
  {
   "cell_type": "markdown",
   "metadata": {},
   "source": [
    "$$\n",
    "100\\cdot A + 50\\cdot B + 150 \\cdot C \\rightarrow max \\\\\n",
    "10\\cdot A + 10\\cdot B + 5\\cdot C \\leq 20 \\\\\n",
    "1 \\geq A, B, C \\geq 0 \\\\\n",
    "A, B, C \\in Z\n",
    "$$"
   ]
  },
  {
   "cell_type": "markdown",
   "metadata": {},
   "source": [
    "$$\n",
    "\\begin{equation}\n",
    "\\begin{bmatrix}\n",
    "\\begin{array}{ccccccc|c}\n",
    "  A & B & C & x_1 & x_2 & x_3 & x_4 & b \\\\ \\hline\n",
    "  -100 & -50 & -150 & 0 & 0 & 0 & 0 & 0\\\\ \\hline\n",
    "  10 & 10 & 5 & 1 & 0 & 0 & 1 & 20  \\\\\n",
    "  1 & 0 & 0 & 0 & 1 & 0 & 0 & 1  \\\\\n",
    "  0 & 1 & 0 & 0 & 0 & 1 & 0 & 1  \\\\\n",
    "  0 & 0 & 1 & 0 & 0 & 0 & 1 & 1  \\\\\n",
    "\\end{array}\n",
    "\\end{bmatrix} = \n",
    "\\begin{bmatrix}\n",
    "\\begin{array}{ccccccc|c}\n",
    "  A & B & C & x_1 & x_2 & x_3 & x_4 & b \\\\ \\hline\n",
    "  -100 & -50 & 0 & 0 & 0 & 0 & 150 & 150\\\\ \\hline\n",
    "  10 & 10 & 0 & 1 & 0 & 0 & -5 & 15  \\\\\n",
    "  1 & 0 & 0 & 0 & 1 & 0 & 0 & 1  \\\\\n",
    "  0 & 1 & 0 & 0 & 0 & 1 & 0 & 1  \\\\\n",
    "  0 & 0 & 1 & 0 & 0 & 0 & 1 & 1  \\\\\n",
    "\\end{array}\n",
    "\\end{bmatrix} \n",
    "\\,\\\\\n",
    "= \n",
    "\\begin{bmatrix}\n",
    "\\begin{array}{ccccccc|c}\n",
    "  A & B & C & x_1 & x_2 & x_3 & x_4 & b \\\\ \\hline\n",
    "  0 & -50 & 0 & 0 & 100 & 0 & 150 & 150\\\\ \\hline\n",
    "  0 & 10 & 0 & 1 & -10 & 0 & -5 & 5  \\\\\n",
    "  1 & 0 & 0 & 0 & 1 & 0 & 0 & 1  \\\\\n",
    "  0 & 1 & 0 & 0 & 0 & 1 & 0 & 1  \\\\\n",
    "  0 & 0 & 1 & 0 & 0 & 0 & 1 & 1  \\\\\n",
    "\\end{array}\n",
    "\\end{bmatrix}\n",
    "= \n",
    "\\begin{bmatrix}\n",
    "\\begin{array}{ccccccc|c}\n",
    "  A & B & C & x_1 & x_2 & x_3 & x_4 & b \\\\ \\hline\n",
    "  0 & -50 & 0 & 0 & 100 & 0 & 150 & 150\\\\ \\hline\n",
    "  0 & 1 & 0 & 0,1 & -1 & 0 & -0,5 & 0,2  \\\\\n",
    "  1 & 0 & 0 & 0 & 1 & 0 & 0 & 1  \\\\\n",
    "  0 & 1 & 0 & 0 & 0 & 1 & 0 & 1  \\\\\n",
    "  0 & 0 & 1 & 0 & 0 & 0 & 1 & 1  \\\\\n",
    "\\end{array}\n",
    "\\end{bmatrix}\n",
    "\\,\\\\\n",
    "= \n",
    "\\begin{bmatrix}\n",
    "\\begin{array}{ccccccc|c}\n",
    "  A & B & C & x_1 & x_2 & x_3 & x_4 & b \\\\ \\hline\n",
    "  0 & 0 & 0 & 0 & 100 & 50 & 150 & 170\\\\ \\hline\n",
    "  0 & 1 & 0 & 0,1 & -1 & 0 & -0,5 & 0,2  \\\\\n",
    "  1 & 0 & 0 & 0 & 1 & 0 & 0 & 1  \\\\\n",
    "  0 & 0 & 0 & -0,1 & 1 & 1 & 0,5 & 0,8  \\\\\n",
    "  0 & 0 & 1 & 0 & 0 & 0 & 1 & 1  \\\\\n",
    "\\end{array}\n",
    "\\end{bmatrix}\n",
    "\\end{equation}\n",
    "\\,\\\\\n",
    "\\text{Aber A,B,C} \\in Z \\implies \\text{Einzige ganzzählige Lösungen sind A = 1 und C = 1}\n",
    "\\,\\\\ \\implies \\text{Der Dieb müss Gegenstände A und C nehmen um seinen Gewinn zu maximieren.}\n",
    "$$"
   ]
  },
  {
   "cell_type": "code",
   "execution_count": null,
   "metadata": {},
   "outputs": [],
   "source": []
  }
 ],
 "metadata": {
  "kernelspec": {
   "display_name": "Python 3 (ipykernel)",
   "language": "python",
   "name": "python3"
  },
  "language_info": {
   "codemirror_mode": {
    "name": "ipython",
    "version": 3
   },
   "file_extension": ".py",
   "mimetype": "text/x-python",
   "name": "python",
   "nbconvert_exporter": "python",
   "pygments_lexer": "ipython3",
   "version": "3.9.7"
  }
 },
 "nbformat": 4,
 "nbformat_minor": 2
}
