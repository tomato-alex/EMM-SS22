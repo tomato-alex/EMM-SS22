{
 "cells": [
  {
   "cell_type": "markdown",
   "metadata": {},
   "source": [
    "# Aufgabenblatt 4"
   ]
  },
  {
   "cell_type": "markdown",
   "metadata": {},
   "source": [
    "## Lineare Optimierung - 3"
   ]
  },
  {
   "cell_type": "markdown",
   "metadata": {},
   "source": [
    "### Aufgabe 1.\n",
    "Ein Bergbauunternehmen muss wöchentlich 1 kt (Kilotonnne) Kohle der Qualität A, 0.7 kt der Qualität B, 2 kt der Qualität C und 4.5 kt der Qualität D liefern. Die Kosten pro Tag betragen bei Schacht 1 40 Tausend EUR und bei Schacht 2  100 Tausend EUR. Die Förderung je Tag (in kt) ist folgender Tabelle zu entnehmen:"
   ]
  },
  {
   "cell_type": "code",
   "execution_count": 22,
   "metadata": {},
   "outputs": [
    {
     "data": {
      "text/html": [
       "<div>\n",
       "<style scoped>\n",
       "    .dataframe tbody tr th:only-of-type {\n",
       "        vertical-align: middle;\n",
       "    }\n",
       "\n",
       "    .dataframe tbody tr th {\n",
       "        vertical-align: top;\n",
       "    }\n",
       "\n",
       "    .dataframe thead th {\n",
       "        text-align: right;\n",
       "    }\n",
       "</style>\n",
       "<table border=\"1\" class=\"dataframe\">\n",
       "  <thead>\n",
       "    <tr style=\"text-align: right;\">\n",
       "      <th></th>\n",
       "      <th>A</th>\n",
       "      <th>B</th>\n",
       "      <th>C</th>\n",
       "      <th>D</th>\n",
       "    </tr>\n",
       "  </thead>\n",
       "  <tbody>\n",
       "    <tr>\n",
       "      <th>Schacht 1</th>\n",
       "      <td>0.2</td>\n",
       "      <td>0.1</td>\n",
       "      <td>0.2</td>\n",
       "      <td>0.4</td>\n",
       "    </tr>\n",
       "    <tr>\n",
       "      <th>Schacht 2</th>\n",
       "      <td>0.1</td>\n",
       "      <td>0.1</td>\n",
       "      <td>0.5</td>\n",
       "      <td>1.5</td>\n",
       "    </tr>\n",
       "  </tbody>\n",
       "</table>\n",
       "</div>"
      ],
      "text/plain": [
       "             A    B    C    D\n",
       "Schacht 1  0.2  0.1  0.2  0.4\n",
       "Schacht 2  0.1  0.1  0.5  1.5"
      ]
     },
     "execution_count": 22,
     "metadata": {},
     "output_type": "execute_result"
    }
   ],
   "source": [
    "import pandas as pd\n",
    "import numpy as np\n",
    "Schacht_1 =\"Schacht 1\"\n",
    "Schacht_2 =\"Schacht 2\"\n",
    "row_labels=[Schacht_1,Schacht_2]\n",
    "df = pd.DataFrame(data = np.array([[0.2,0.1,0.2,0.4],[0.1,0.1,0.5,1.5]]), columns = ['A','B','C','D'], index=row_labels)\n",
    "df"
   ]
  },
  {
   "cell_type": "markdown",
   "metadata": {},
   "source": [
    "a) Man löse das Problem durch Dualisierung. "
   ]
  },
  {
   "cell_type": "markdown",
   "metadata": {},
   "source": [
    "$$\n",
    "\\text{Zielfunktion ist $40x_1+100x_2\\rightarrow min$} \\\\\n",
    "\\text{Nebenbedingungen sind: } \\\\\n",
    "1. \\,0.2\\cdot x_1 + 0.1\\cdot x_2 \\geq 1 \\\\\n",
    "2. \\,0.1\\cdot x_1 + 0.1\\cdot x_2 \\geq 0.7 \\\\\n",
    "3. \\,0.2\\cdot x_1 + 0.5\\cdot x_2 \\geq 2 \\\\\n",
    "4. \\,0.4\\cdot x_1 + 1.5\\cdot x_2 \\geq 4.5 \\\\\n",
    "\\,\\\\\n",
    "0 \\leq x_1, x_2 \\leq 7 \\\\\n",
    "\\text{Dualisieren:}\\\\\n",
    "-40\\cdot x_1 -100\\cdot x_2\\rightarrow max \\\\\n",
    "1. -0.2\\cdot x_1 - 0.1\\cdot x_2 \\leq -1 \\\\\n",
    "2. -0.1\\cdot x_1 - 0.1\\cdot x_2 \\leq -0.7 \\\\\n",
    "3. -0.2\\cdot x_1 - 0.5\\cdot x_2 \\leq -2 \\\\\n",
    "4. -0.4\\cdot x_1 - 1.5\\cdot x_2 \\leq -4.5 \\\\\n",
    "\\,\\\\\n",
    "-1\\cdot y_1 -0.7\\cdot y_2 -2\\cdot y_3 -4.5\\cdot y_4 \\rightarrow min \\\\\n",
    "-0.2\\cdot y_1 -0.1\\cdot y_2 -0.2\\cdot y_3 -0.4\\cdot y_4 \\geq -40 \\\\\n",
    "-0.1\\cdot y_1 -0.1\\cdot y_2 -0.5\\cdot y_3 -1.5\\cdot y_4 \\geq -100 \\\\\n",
    "\\,\\\\ \n",
    "\\text{Umwandlung: } \\\\\n",
    "1\\cdot y_1 +0.7\\cdot y_2 +2\\cdot y_3 +4.5\\cdot y_4 \\rightarrow max \\\\\n",
    "0.2\\cdot y_1 +0.1\\cdot y_2 +0.2\\cdot y_3 +0.4\\cdot y_4 \\leq 40 \\\\\n",
    "0.1\\cdot y_1 +0.1\\cdot y_2 +0.5\\cdot y_3 +1.5\\cdot y_4 \\leq 100 \\\\\n",
    "\\,\\\\\n",
    "\\text{In Simplex Darstellung: }\\\\\n",
    "\\begin{equation}\n",
    "\\begin{bmatrix}\n",
    "\\begin{array}{cccccc|c}\n",
    "  y_1 & y_2 & y_3 & y_4 & s_1 & s_2 & b \\\\ \\hline\n",
    "  -1 & -0.7 & -2 & -4.5 & 0 & 0 & 0\\\\ \\hline\n",
    "  0.2 & 0.1 & 0.2 & 0.4 & 1 & 0 & 40  \\\\\n",
    "  0.1 & 0.1 & 0.5 & 1.5 & 0 & 1 & 100  \\\\\n",
    "\\end{array}\n",
    "\\end{bmatrix} = \n",
    "\\begin{bmatrix}\n",
    "\\begin{array}{cccccc|c}\n",
    "  y_1 & y_2 & y_3 & y_4 & s_1 & s_2 & b \\\\ \\hline\n",
    "  -\\frac{7}{10} & -\\frac{2}{5} & -\\frac{1}{2} & 0 & 0 & 3 & 300\\\\ \\hline\n",
    "  \\frac{13}{75} & \\frac{11}{150} & \\frac{1}{15} & 0 & 1 & \\frac{-4}{15} & \\frac{40}{3}  \\\\\n",
    "  \\frac{1}{15} & \\frac{1}{15} & \\frac{1}{3} & 1 & 0 & \\frac{2}{3} & \\frac{200}{3}  \\\\\n",
    "\\end{array}\n",
    "\\end{bmatrix} = \\\\\n",
    "\\begin{bmatrix}\n",
    "\\begin{array}{cccccc|c}\n",
    "  y_1 & y_2 & y_3 & y_4 & s_1 & s_2 & b \\\\ \\hline\n",
    "  0 & -\\frac{27}{260} & -\\frac{3}{13} & 0 & \\frac{105}{26} & \\frac{25}{13} & \\frac{4600}{13}\\\\ \\hline\n",
    "  1 & \\frac{11}{26} & \\frac{5}{13} & 0 & \\frac{75}{13} & \\frac{-20}{13} & \\frac{1000}{13}  \\\\\n",
    "  0 & \\frac{1}{26} & \\frac{4}{13} & 1 & \\frac{-5}{13} & \\frac{10}{13} & \\frac{800}{13}  \\\\\n",
    "\\end{array}\n",
    "\\end{bmatrix} = \n",
    "\\begin{bmatrix}\n",
    "\\begin{array}{cccccc|c}\n",
    "  y_1 & y_2 & y_3 & y_4 & s_1 & s_2 & b \\\\ \\hline\n",
    "  0 & -\\frac{3}{40} & 0 & \\frac{3}{4} & \\frac{15}{4} & \\frac{5}{2} & 400\\\\ \\hline\n",
    "  1 & \\frac{3}{8} & 0 & \\frac{-5}{4} & \\frac{25}{4} & \\frac{-5}{2} & 0  \\\\\n",
    "  0 & \\frac{1}{8} & 1 & \\frac{13}{4} & \\frac{-5}{4} & \\frac{5}{2} & 200  \\\\\n",
    "\\end{array}\n",
    "\\end{bmatrix} = \\\\\n",
    "\\begin{bmatrix}\n",
    "\\begin{array}{cccccc|c}\n",
    "  y_1 & y_2 & y_3 & y_4 & s_1 & s_2 & b \\\\ \\hline\n",
    "  \\frac{1}{5} & 0 & 0 & \\frac{1}{2} & 5 & 2 & 400\\\\ \\hline\n",
    "  \\frac{8}{3} & 1 & 0 & \\frac{-10}{3} & \\frac{50}{3} & \\frac{-20}{3} & 0  \\\\\n",
    "  \\frac{-1}{3} & 0 & 1 & \\frac{11}{3} & \\frac{-10}{3} & \\frac{10}{3} & 200  \\\\\n",
    "\\end{array}\n",
    "\\end{bmatrix} \n",
    "\\end{equation}\n",
    "\\,\\\\\n",
    "\\text{Optimale Funktionswerte ist $400$ } \\\\\n",
    "$$"
   ]
  },
  {
   "cell_type": "code",
   "execution_count": 12,
   "metadata": {},
   "outputs": [
    {
     "name": "stdout",
     "output_type": "stream",
     "text": [
      "     con: array([], dtype=float64)\n",
      "     fun: -400.0\n",
      " message: 'Optimization terminated successfully.'\n",
      "     nit: 4\n",
      "   slack: array([ 0.00000000e+00, -1.42108547e-14])\n",
      "  status: 0\n",
      " success: True\n",
      "       x: array([ 0.00000000e+00,  0.00000000e+00,  2.00000000e+02, -6.31088724e-30,\n",
      "        9.94759830e-15,  0.00000000e+00])\n"
     ]
    }
   ],
   "source": [
    "from scipy.optimize import linprog\n",
    "\n",
    "b = [40, 100]\n",
    "A = [[0.2, 0.1, 0.2, 0.4, -1, 0], [0.1, 0.1, 0.5, 1.5, 0, -1]]\n",
    "c = [-1, -0.7, -2, -4.5, 7, 7]\n",
    "\n",
    "model_linear = linprog(c, A, b, method = 'revised simplex')\n",
    "print(model_linear)"
   ]
  },
  {
   "cell_type": "code",
   "execution_count": 9,
   "metadata": {},
   "outputs": [
    {
     "name": "stdout",
     "output_type": "stream",
     "text": [
      "Collecting pulp\n",
      "  Downloading PuLP-2.6.0-py3-none-any.whl (14.2 MB)\n",
      "Installing collected packages: pulp\n",
      "Successfully installed pulp-2.6.0\n"
     ]
    }
   ],
   "source": [
    "import sys\n",
    "!{sys.executable} -m pip install pulp\n",
    "\n",
    "#https://pypi.org/project/PuLP/1.1/\n",
    "#https://jakevdp.github.io/blog/2017/12/05/installing-python-packages-from-jupyter/"
   ]
  },
  {
   "cell_type": "code",
   "execution_count": 8,
   "metadata": {},
   "outputs": [
    {
     "name": "stdout",
     "output_type": "stream",
     "text": [
      "x = 5.0\n",
      "y = 2.0\n",
      "Optimum= 400.0\n",
      "BergBU:\n",
      "MINIMIZE\n",
      "40*x + 100*y + 0\n",
      "SUBJECT TO\n",
      "_C1: 0.2 x + 0.1 y >= 1\n",
      "\n",
      "_C2: 0.1 x + 0.1 y >= 0.7\n",
      "\n",
      "_C3: 0.2 x + 0.5 y >= 2\n",
      "\n",
      "_C4: 0.4 x + 1.5 y >= 4.5\n",
      "\n",
      "VARIABLES\n",
      "x <= 7 Continuous\n",
      "y <= 7 Continuous\n",
      "\n"
     ]
    }
   ],
   "source": [
    "from pulp import *\n",
    "\n",
    "prob = LpProblem(\"BergBU\", LpMinimize)\n",
    "\n",
    "# Variables\n",
    "x = LpVariable(\"x\", 0, 7)\n",
    "y = LpVariable(\"y\", 0, 7)\n",
    "\n",
    "# Objective\n",
    "prob += 40*x + 100*y\n",
    "\n",
    "# Constraints\n",
    "prob += 0.2*x+0.1*y >= 1\n",
    "prob += 0.1*x+0.1*y >= 0.7\n",
    "prob += 0.2*x+0.5*y >= 2\n",
    "prob += 0.4*x+1.5*y >= 4.5\n",
    "\n",
    "GLPK().solve(prob)\n",
    "\n",
    "# Solution\n",
    "for v in prob.variables():\n",
    "    print (v.name, \"=\", v.varValue)\n",
    "\n",
    "print (\"Optimum=\", value(prob.objective))\n",
    "print (prob)"
   ]
  },
  {
   "cell_type": "markdown",
   "metadata": {},
   "source": [
    "b) Ermitteln Sie die Schattenpreise und interpretieren Sie diese Werte."
   ]
  },
  {
   "cell_type": "markdown",
   "metadata": {},
   "source": [
    "$$\n",
    "\\text{Schlupfvariablen sind $s_1 = 5$ und $s_2 = 2$, } \\\\\n",
    "\\text{wobei die Position des Optimums des primalen Problems} \\\\\n",
    "\\text{die gleiche Werte wie die Schlupfvariablen hat, } \\\\\n",
    "\\text{also $x_1 = s_1 = 5$ und $x_2 = s_2 = 2$, welche auch die NB $x_1, x_2 \\leq 7$ erfüllen.}\\\\\n",
    "$$"
   ]
  },
  {
   "cell_type": "markdown",
   "metadata": {},
   "source": [
    "### Aufgabe 2. \n",
    "\n",
    "Für welche der folgenden Tripel $(x,y,z)$ von Punkten ist $z$ Konvexkombination von $x$ und $y$:\n"
   ]
  },
  {
   "cell_type": "markdown",
   "metadata": {},
   "source": [
    "a) $x = (1,1)^T, \\, y = (-8, -8)^T,\\, z= (3,3)^T$"
   ]
  },
  {
   "cell_type": "markdown",
   "metadata": {},
   "source": [
    "b) $x = (7,4)^T, \\, y = (5.5, 1)^T, \\,z= (6,2)^T$"
   ]
  },
  {
   "cell_type": "markdown",
   "metadata": {},
   "source": [
    "c) $x = (1,1,1)^T,  \\, y = (5,9,13)^T, \\,z= (2,3,4)^T$"
   ]
  },
  {
   "cell_type": "markdown",
   "metadata": {},
   "source": [
    "$$\n",
    "\\text{a) }\n",
    "\\lambda(1,1)^T + (1-\\lambda) (-8, -8)^T = (3,3)^T \\\\\n",
    "\\lambda - 8 + 8\\lambda = 3 \\\\\n",
    "9\\lambda = 11\n",
    "\\lambda = \\frac{11}{9} \\geq 1 \\implies \\lambda\\notin \\left[ 0;1\\right] \\implies \\text{$z$ ist keine Konvexkombination von $x$ und $y$.}\n",
    "\\,\\\\\n",
    "\\text{b) }\n",
    "\\lambda(7,4)^T + (1-\\lambda) (5.5, 1)^T = (6,2)^T \\\\\n",
    "7\\lambda - 5.5\\lambda + 5.5 = 6 \\\\\n",
    "4\\lambda - \\lambda + 1 = 2 \\\\\n",
    "\\lambda = \\frac{0.5}{1.5} = \\frac{1}{3} \\leq 1 \\text{ && }\\geq 0 \\implies \\lambda \\in \\left[0; 1\\right] \\implies \\text{$z$ ist Konvexkombination von $x$ und $y$.}\n",
    "\\,\\\\\n",
    "\\text{b) }\n",
    "\\lambda(1,1,1)^T + (1-\\lambda) (5,9,13)^T = (2,3,4)^T \\\\\n",
    "\\lambda - 5\\lambda + 5 = 2 \\\\\n",
    "-4\\lambda = -3 \\\\\n",
    "\\lambda = \\frac{3}{4} \\leq 1 \\text{ && }\\geq 0 \\implies \\lambda \\in \\left[0; 1\\right] \\implies \\text{$z$ ist Konvexkombination von $x$ und $y$.}\n",
    "$$"
   ]
  },
  {
   "cell_type": "code",
   "execution_count": 6,
   "metadata": {},
   "outputs": [
    {
     "name": "stdout",
     "output_type": "stream",
     "text": [
      "1.2222222222222223 Failure\n",
      "0.3333333333333333 Success\n",
      "0.75 Success\n"
     ]
    }
   ],
   "source": [
    "def isValid(v1, v2, v3):\n",
    "    _l = (v3-v2)/(v1-v2);\n",
    "    if _l <= 1 and _l >= 0:\n",
    "        print (_l, \"Success\")\n",
    "    else:\n",
    "        print (_l, \"Failure\")\n",
    "\n",
    "isValid(1, -8, 3)\n",
    "isValid(7, 5.5, 6)\n",
    "isValid(1, 5, 2)"
   ]
  },
  {
   "cell_type": "code",
   "execution_count": 15,
   "metadata": {},
   "outputs": [
    {
     "data": {
      "text/plain": [
       "{l: 11/9}"
      ]
     },
     "execution_count": 15,
     "metadata": {},
     "output_type": "execute_result"
    }
   ],
   "source": [
    "from sympy import *\n",
    "l = Symbol('l')\n",
    "solve([l-8*(1-l)-3, l-8*(1-l)-3], l)"
   ]
  },
  {
   "cell_type": "markdown",
   "metadata": {},
   "source": [
    "### Aufgabe 3. \n",
    "\n",
    "Man löse mit dem Simplex-Algorithmus:\n",
    "\n",
    "\\begin{array}{rcl}\n",
    "1000 x_1 + 200 x_2 + 400 x_3 &\\to& \\max\\\\\n",
    "x_1 + x_2 + 8 x_3 &\\leq& 250\\\\\n",
    "20 x_1  + 2 x_2 + x_3&\\leq& 200\\\\\n",
    "x_1, x_2, x_3 &\\geq& 0\n",
    "\\end{array}\n",
    "\n",
    "Um wieviel kann der optimale Zielfunktionswert erhöht werden, wenn man die rechte Seite der ersten Nebenbedingung von 250 auf 251 erhöht?"
   ]
  },
  {
   "cell_type": "markdown",
   "metadata": {},
   "source": [
    "$$\\begin{bmatrix}\n",
    "\\begin{array}{cccccc|c}\n",
    "  x_1 & x_2 & x_3 & s_1 & s_2 & b \\\\ \\hline\n",
    "  -1000 & -200 & -400 & 0 & 0 & 0\\\\ \\hline\n",
    "  1 & 1 & 8 & 1 & 0 & 250  \\\\\n",
    "  20 & 2 & 1 & 0 & 1 & 200  \\\\\n",
    "\\end{array}\n",
    "\\end{bmatrix} = \n",
    "\\begin{bmatrix}\n",
    "\\begin{array}{cccccc|c}\n",
    "  x_1 & x_2 & x_3 & s_1 & s_2 & b \\\\ \\hline\n",
    "  0 & -100 & -350 & 0 & 50 & 10000\\\\ \\hline\n",
    "  0 & 0.9 & 7.95 & 1 & -0.05 & 240  \\\\\n",
    "  1 & 0.1 & 0.05 & 0 & 0.05 & 10  \\\\\n",
    "\\end{array}\n",
    "\\end{bmatrix} = \\\\\n",
    "\\begin{bmatrix}\n",
    "\\begin{array}{cccccc|c}\n",
    "  x_1 & x_2 & x_3 & s_1 & s_2 & b \\\\ \\hline\n",
    "  0 & -60 & 0 & 44 & 48 & 20560\\\\ \\hline\n",
    "  0 & 0.11 & 1 & 0.12 & -0.06 & 30  \\\\\n",
    "  1 & 0.1 & 0 & -0.06 & 0.05 & 8.49  \\\\\n",
    "\\end{array}\n",
    "\\end{bmatrix} = \n",
    "\\begin{bmatrix}\n",
    "\\begin{array}{cccccc|c}\n",
    "  x_1 & x_2 & x_3 & s_1 & s_2 & b \\\\ \\hline\n",
    "  600 & 0 & 0 & 116 & 44 & 26000\\\\ \\hline\n",
    "  -1 & 0 & 1 & 0.11 & -0.06 & 20  \\\\\n",
    "  10 & 1 & 0 & -0.06 & 0.05 & 90  \\\\\n",
    "\\end{array}\n",
    "\\end{bmatrix} = \n",
    "$$"
   ]
  },
  {
   "cell_type": "markdown",
   "metadata": {},
   "source": [
    "$$\n",
    "\\text{Bei NB1 $\\leq 251$: }\n",
    "\\begin{bmatrix}\n",
    "\\begin{array}{cccccc|c}\n",
    "  x_1 & x_2 & x_3 & s_1 & s_2 & b \\\\ \\hline\n",
    "  -1000 & -200 & -400 & 0 & 0 & 0\\\\ \\hline\n",
    "  1 & 1 & 8 & 1 & 0 & 21  \\\\\n",
    "  20 & 2 & 1 & 0 & 1 & 200  \\\\\n",
    "\\end{array}\n",
    "\\end{bmatrix} = \n",
    "\\begin{bmatrix}\n",
    "\\begin{array}{cccccc|c}\n",
    "  x_1 & x_2 & x_3 & s_1 & s_2 & b \\\\ \\hline\n",
    "  0 & -100 & -350 & 0 & 50 & 10000\\\\ \\hline\n",
    "  0 & 0.9 & 7.95 & 1 & -0.05 & 241  \\\\\n",
    "  1 & 0.1 & 0.05 & 0 & 0.05 & 10  \\\\\n",
    "\\end{array}\n",
    "\\end{bmatrix} = \\\\\n",
    "\\begin{bmatrix}\n",
    "\\begin{array}{cccccc|c}\n",
    "  x_1 & x_2 & x_3 & s_1 & s_2 & b \\\\ \\hline\n",
    "  0 & -60 & 0 & 44 & 48 & 20610\\\\ \\hline\n",
    "  0 & 0.11 & 1 & 0.12 & -0.006 & 30  \\\\\n",
    "  1 & 0.1 & 0 & -0.006 & 0.05 & 8.49  \\\\\n",
    "\\end{array}\n",
    "\\end{bmatrix} = \n",
    "\\begin{bmatrix}\n",
    "\\begin{array}{cccccc|c}\n",
    "  x_1 & x_2 & x_3 & s_1 & s_2 & b \\\\ \\hline\n",
    "  600 & 0 & 0 & 116 & 44 & 26040\\\\ \\hline\n",
    "  -1 & 0 & 1 & 0.11 & -0.06 & 20.13  \\\\\n",
    "  10 & 1 & 0 & -0.06 & 0.05 & 89.93  \\\\\n",
    "\\end{array}\n",
    "\\end{bmatrix} \\\\\n",
    "\\implies \\text{ZF Wert erhoeht sich mit 40.}\n",
    "$$"
   ]
  },
  {
   "cell_type": "code",
   "execution_count": 22,
   "metadata": {
    "scrolled": true
   },
   "outputs": [
    {
     "name": "stdout",
     "output_type": "stream",
     "text": [
      "     con: array([], dtype=float64)\n",
      "     fun: -25999.999894754947\n",
      " message: 'Optimization terminated successfully.'\n",
      "     nit: 6\n",
      "   slack: array([1.04519950e-06, 7.81390298e-07])\n",
      "  status: 0\n",
      " success: True\n",
      "       x: array([1.44663608e-09, 8.99999996e+01, 1.99999999e+01])\n"
     ]
    }
   ],
   "source": [
    "b = [250, 200]\n",
    "A = [[1, 1, 8], [20, 2, 1]]\n",
    "c = [-1000, -200, -400]\n",
    "\n",
    "model_linear = linprog(c, A, b)\n",
    "print(model_linear)"
   ]
  },
  {
   "cell_type": "code",
   "execution_count": 23,
   "metadata": {},
   "outputs": [
    {
     "name": "stdout",
     "output_type": "stream",
     "text": [
      "     con: array([], dtype=float64)\n",
      "     fun: -26039.99990475771\n",
      " message: 'Optimization terminated successfully.'\n",
      "     nit: 6\n",
      "   slack: array([9.48264301e-07, 7.05822629e-07])\n",
      "  status: 0\n",
      " success: True\n",
      "       x: array([1.32173014e-09, 8.99333330e+01, 2.01333333e+01])\n"
     ]
    }
   ],
   "source": [
    "b = [251, 200]\n",
    "A = [[1, 1, 8], [20, 2, 1]]\n",
    "c = [-1000, -200, -400]\n",
    "\n",
    "model_linear = linprog(c, A, b)\n",
    "print(model_linear)"
   ]
  },
  {
   "cell_type": "code",
   "execution_count": 9,
   "metadata": {},
   "outputs": [
    {
     "name": "stdout",
     "output_type": "stream",
     "text": [
      "x = 0.0\n",
      "y = 90.0\n",
      "z = 20.0\n",
      "Optimum= 26000.0\n",
      "LP1:\n",
      "MAXIMIZE\n",
      "1000*x + 200*y + 400*z + 0\n",
      "SUBJECT TO\n",
      "_C1: x + y + 8 z <= 250\n",
      "\n",
      "_C2: 20 x + 2 y + z <= 200\n",
      "\n",
      "VARIABLES\n",
      "x Continuous\n",
      "y Continuous\n",
      "z Continuous\n",
      "\n"
     ]
    }
   ],
   "source": [
    "prob2 = LpProblem(\"LP1\", LpMaximize)\n",
    "\n",
    "# Variables\n",
    "x = LpVariable(\"x\", 0)\n",
    "y = LpVariable(\"y\", 0)\n",
    "z = LpVariable(\"z\", 0)\n",
    "\n",
    "# Objective\n",
    "prob2 += 1000*x + 200*y + 400*z\n",
    "\n",
    "# Constraints\n",
    "prob2 += x+y+8*z <= 250\n",
    "prob2 += 20*x+2*y+z <= 200\n",
    "\n",
    "GLPK().solve(prob2)\n",
    "\n",
    "# Solution\n",
    "for v in prob2.variables():\n",
    "    print (v.name, \"=\", v.varValue)\n",
    "\n",
    "print (\"Optimum=\", value(prob2.objective))\n",
    "print (prob2)"
   ]
  },
  {
   "cell_type": "markdown",
   "metadata": {},
   "source": [
    "### Aufgabe 4.\n",
    "\n",
    "Mit den drei Lebensmitteln A,B,C ist ein Tagesbedarf von 2000 kcal, 60 g Eiweiß und 40 g Fett zu decken. Energiegehalt, Nährstoffgehalt und Preis sind untenstehender Tabelle zu entnehmen.\t"
   ]
  },
  {
   "cell_type": "code",
   "execution_count": 23,
   "metadata": {},
   "outputs": [
    {
     "data": {
      "text/html": [
       "<div>\n",
       "<style scoped>\n",
       "    .dataframe tbody tr th:only-of-type {\n",
       "        vertical-align: middle;\n",
       "    }\n",
       "\n",
       "    .dataframe tbody tr th {\n",
       "        vertical-align: top;\n",
       "    }\n",
       "\n",
       "    .dataframe thead th {\n",
       "        text-align: right;\n",
       "    }\n",
       "</style>\n",
       "<table border=\"1\" class=\"dataframe\">\n",
       "  <thead>\n",
       "    <tr style=\"text-align: right;\">\n",
       "      <th></th>\n",
       "      <th>kcal</th>\n",
       "      <th>g Eiweiß</th>\n",
       "      <th>g Fett</th>\n",
       "      <th>Preis</th>\n",
       "    </tr>\n",
       "  </thead>\n",
       "  <tbody>\n",
       "    <tr>\n",
       "      <th>A</th>\n",
       "      <td>80.0</td>\n",
       "      <td>2.0</td>\n",
       "      <td>0.0</td>\n",
       "      <td>1.5</td>\n",
       "    </tr>\n",
       "    <tr>\n",
       "      <th>B</th>\n",
       "      <td>250.0</td>\n",
       "      <td>6.0</td>\n",
       "      <td>1.0</td>\n",
       "      <td>2.0</td>\n",
       "    </tr>\n",
       "    <tr>\n",
       "      <th>C</th>\n",
       "      <td>400.0</td>\n",
       "      <td>30.0</td>\n",
       "      <td>30.0</td>\n",
       "      <td>15.0</td>\n",
       "    </tr>\n",
       "  </tbody>\n",
       "</table>\n",
       "</div>"
      ],
      "text/plain": [
       "    kcal  g Eiweiß  g Fett  Preis\n",
       "A   80.0       2.0     0.0    1.5\n",
       "B  250.0       6.0     1.0    2.0\n",
       "C  400.0      30.0    30.0   15.0"
      ]
     },
     "execution_count": 23,
     "metadata": {},
     "output_type": "execute_result"
    }
   ],
   "source": [
    "import pandas as pd\n",
    "import numpy as np\n",
    "row_labels=['A','B','C']\n",
    "df = pd.DataFrame(data = np.array([[80,2,0,1.5],[250,6,1,2],[400,30,30,15]]), columns = ['kcal','g Eiweiß','g Fett','Preis'], index=row_labels)\n",
    "df"
   ]
  },
  {
   "cell_type": "markdown",
   "metadata": {},
   "source": [
    "Lösen Sie  das  Problem  mit dem Simplex-Algorithmus."
   ]
  },
  {
   "cell_type": "code",
   "execution_count": 16,
   "metadata": {},
   "outputs": [
    {
     "name": "stdout",
     "output_type": "stream",
     "text": [
      "x = 0.0\n",
      "y = 6.19718\n",
      "z = 1.12676\n",
      "Optimum= 29.29576\n",
      "Ernaehrung:\n",
      "MINIMIZE\n",
      "1.5*x + 2*y + 15*z + 0.0\n",
      "SUBJECT TO\n",
      "_C1: 80 x + 250 y + 400 z >= 2000\n",
      "\n",
      "_C2: 2 x + 6 y + 30 z >= 60\n",
      "\n",
      "_C3: y + 30 z >= 40\n",
      "\n",
      "VARIABLES\n",
      "x Continuous\n",
      "y Continuous\n",
      "z Continuous\n",
      "\n"
     ]
    }
   ],
   "source": [
    "prob3 = LpProblem(\"Ernaehrung\", LpMinimize)\n",
    "\n",
    "# Variables\n",
    "x = LpVariable(\"x\", 0)\n",
    "y = LpVariable(\"y\", 0)\n",
    "z = LpVariable(\"z\", 0)\n",
    "\n",
    "# Objective\n",
    "prob3 += 1.5*x + 2*y + 15*z\n",
    "\n",
    "# Constraints\n",
    "prob3 += 80*x+250*y+400*z >= 2000\n",
    "prob3 += 2*x+6*y+30*z >= 60\n",
    "prob3 += 1*y+30*z >= 40\n",
    "\n",
    "GLPK().solve(prob3)\n",
    "\n",
    "# Solution\n",
    "for v in prob3.variables():\n",
    "    print (v.name, \"=\", v.varValue)\n",
    "\n",
    "print (\"Optimum=\", value(prob3.objective))\n",
    "print (prob3)"
   ]
  },
  {
   "cell_type": "code",
   "execution_count": null,
   "metadata": {},
   "outputs": [],
   "source": []
  }
 ],
 "metadata": {
  "kernelspec": {
   "display_name": "Python 3 (ipykernel)",
   "language": "python",
   "name": "python3"
  },
  "language_info": {
   "codemirror_mode": {
    "name": "ipython",
    "version": 3
   },
   "file_extension": ".py",
   "mimetype": "text/x-python",
   "name": "python",
   "nbconvert_exporter": "python",
   "pygments_lexer": "ipython3",
   "version": "3.9.7"
  }
 },
 "nbformat": 4,
 "nbformat_minor": 2
}
